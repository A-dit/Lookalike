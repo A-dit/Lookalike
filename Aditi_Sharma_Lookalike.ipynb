{
 "cells": [
  {
   "cell_type": "code",
   "execution_count": 17,
   "id": "81e8aefa-cddc-46bc-af09-ac4ce2b212a7",
   "metadata": {},
   "outputs": [
    {
     "name": "stdout",
     "output_type": "stream",
     "text": [
      "total_spent              1\n",
      "transaction_count        1\n",
      "avg_transaction_value    1\n",
      "dtype: int64\n"
     ]
    }
   ],
   "source": [
    "import pandas as pd\n",
    "df1 = pd.read_csv('customers.csv')\n",
    "df2 = pd.read_csv('products.csv')\n",
    "df3 = pd.read_csv('transactions.csv') \n",
    "from sklearn.metrics.pairwise import cosine_similarity\n",
    "from sklearn.preprocessing import StandardScaler\n",
    "\n",
    "# Aggregate transaction data to get total spend, frequency, etc.\n",
    "df3_features = df3.groupby('CustomerID').agg(\n",
    "    total_spent=('TotalValue', 'sum'),\n",
    "    transaction_count=('TotalValue', 'count'),\n",
    "    avg_transaction_value=('TotalValue', 'mean')\n",
    ").reset_index()\n",
    "customer_data = pd.merge(df1, df3_features, on='CustomerID', how='left')\n",
    "print(customer_data[['total_spent', 'transaction_count', 'avg_transaction_value']].isnull().sum())\n",
    "customer_data = customer_data.dropna(subset=['total_spent', 'transaction_count', 'avg_transaction_value'])\n",
    "customer_data[['total_spent', 'transaction_count', 'avg_transaction_value']] = customer_data[['total_spent', 'transaction_count', 'avg_transaction_value']].fillna(customer_data[['total_spent', 'transaction_count', 'avg_transaction_value']].mean())\n",
    "\n"
   ]
  },
  {
   "cell_type": "code",
   "execution_count": 16,
   "id": "9c05741e-1029-49d9-80bb-c24da44aba3a",
   "metadata": {},
   "outputs": [
    {
     "name": "stdout",
     "output_type": "stream",
     "text": [
      "total_spent              1\n",
      "transaction_count        1\n",
      "avg_transaction_value    1\n",
      "dtype: int64\n",
      "Lookalike model created successfully!\n"
     ]
    }
   ],
   "source": [
    "# Step 1: Merge customer profile data with transaction features (correct dataframe references)\n",
    "customer_data = pd.merge(df1, df3_features, on='CustomerID', how='left')\n",
    "\n",
    "# Step 2: Normalize features to ensure they are on the same scale\n",
    "scaler = StandardScaler()\n",
    "customer_data[['total_spent', 'transaction_count', 'avg_transaction_value']] = scaler.fit_transform(\n",
    "    customer_data[['total_spent', 'transaction_count', 'avg_transaction_value']])\n",
    "print(customer_data[['total_spent', 'transaction_count', 'avg_transaction_value']].isnull().sum())\n",
    "customer_data = customer_data.dropna(subset=['total_spent', 'transaction_count', 'avg_transaction_value'])\n",
    "customer_data[['total_spent', 'transaction_count', 'avg_transaction_value']] = customer_data[['total_spent', 'transaction_count', 'avg_transaction_value']].fillna(customer_data[['total_spent', 'transaction_count', 'avg_transaction_value']].mean())\n",
    "\n",
    "# Step 3: Calculate similarity between customers using cosine similarity\n",
    "# Use all features (Age, Gender, total_spent, transaction_count, avg_transaction_value)\n",
    "similarity_matrix = cosine_similarity(customer_data[['total_spent', 'transaction_count', 'avg_transaction_value']])\n",
    "\n",
    "# Step 4: Get top 3 similar customers for each of the first 20 customers\n",
    "lookalikes = []\n",
    "\n",
    "for customer_id in range(1, 21):\n",
    "    # Get the similarity scores for the customer (adjust index -1 as customer_id is 1-based)\n",
    "    similar_scores = similarity_matrix[customer_id - 1]\n",
    "    \n",
    "    # Sort the indices in descending order to get the most similar customers first\n",
    "    sorted_indices = similar_scores.argsort()[::-1]\n",
    "    \n",
    "    # Get the top 3 lookalikes (exclude the customer itself)\n",
    "    for idx in sorted_indices:\n",
    "        if customer_data.iloc[idx]['CustomerID'] != f'C{customer_id:04d}':  # Exclude self\n",
    "            lookalikes.append({\n",
    "                'CustomerID': f'C{customer_id:04d}',\n",
    "                'Lookalike_CustomerID': customer_data.iloc[idx]['CustomerID'],\n",
    "                'Similarity_Score': similar_scores[idx]\n",
    "            })\n",
    "        if len(lookalikes) == 3 * (customer_id - 1):  # Only keep top 3 for each customer\n",
    "            break\n",
    "\n",
    "# Convert the lookalikes list into a DataFrame\n",
    "lookalike_df = pd.DataFrame(lookalikes)\n",
    "\n",
    "# Step 5: Save to CSV\n",
    "lookalike_df.to_csv('Lookalike.csv', index=False)\n",
    "\n",
    "print(\"Lookalike model created successfully!\")\n",
    "\n"
   ]
  },
  {
   "cell_type": "code",
   "execution_count": 21,
   "id": "f183e0ec-d7b7-4c89-ba23-8b403eeeaad2",
   "metadata": {},
   "outputs": [
    {
     "name": "stdout",
     "output_type": "stream",
     "text": [
      "[[1.         0.99886795 0.99886814 ... 0.96476382 0.99886802 0.99999991]\n",
      " [0.99886795 1.         0.99999978 ... 0.97618714 0.99999999 0.99886759]\n",
      " [0.99886814 0.99999978 1.         ... 0.97618701 0.99999986 0.99886806]\n",
      " ...\n",
      " [0.96476382 0.97618714 0.97618701 ... 1.         0.97618715 0.96476351]\n",
      " [0.99886802 0.99999999 0.99999986 ... 0.97618715 1.         0.99886771]\n",
      " [0.99999991 0.99886759 0.99886806 ... 0.96476351 0.99886771 1.        ]]\n"
     ]
    }
   ],
   "source": [
    "# Calculate cosine similarity between customers using relevant features\n",
    "similarity_matrix = cosine_similarity(customer_data[['total_spent', 'transaction_count', 'avg_transaction_value']])\n",
    "\n",
    "print(similarity_matrix)"
   ]
  },
  {
   "cell_type": "code",
   "execution_count": null,
   "id": "e592b3b1-8b34-48c2-ae10-b1ae009cf43c",
   "metadata": {},
   "outputs": [],
   "source": []
  }
 ],
 "metadata": {
  "kernelspec": {
   "display_name": "Python 3 (ipykernel)",
   "language": "python",
   "name": "python3"
  },
  "language_info": {
   "codemirror_mode": {
    "name": "ipython",
    "version": 3
   },
   "file_extension": ".py",
   "mimetype": "text/x-python",
   "name": "python",
   "nbconvert_exporter": "python",
   "pygments_lexer": "ipython3",
   "version": "3.12.4"
  }
 },
 "nbformat": 4,
 "nbformat_minor": 5
}
